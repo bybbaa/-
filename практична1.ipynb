{
  "nbformat": 4,
  "nbformat_minor": 0,
  "metadata": {
    "colab": {
      "provenance": [],
      "authorship_tag": "ABX9TyMiVuJ/OgmWZKXOEGPOSUB2",
      "include_colab_link": true
    },
    "kernelspec": {
      "name": "python3",
      "display_name": "Python 3"
    },
    "language_info": {
      "name": "python"
    }
  },
  "cells": [
    {
      "cell_type": "markdown",
      "metadata": {
        "id": "view-in-github",
        "colab_type": "text"
      },
      "source": [
        "<a href=\"https://colab.research.google.com/github/bybbaa/CHM/blob/main/%D0%BF%D1%80%D0%B0%D0%BA%D1%82%D0%B8%D1%87%D0%BD%D0%B01.ipynb\" target=\"_parent\"><img src=\"https://colab.research.google.com/assets/colab-badge.svg\" alt=\"Open In Colab\"/></a>"
      ]
    },
    {
      "cell_type": "code",
      "execution_count": 1,
      "metadata": {
        "id": "jYdKrW_MxW5v",
        "outputId": "9f161af7-4a59-4eaa-dd48-7846decb623d",
        "colab": {
          "base_uri": "https://localhost:8080/"
        }
      },
      "outputs": [
        {
          "output_type": "stream",
          "name": "stdout",
          "text": [
            "Друга рівність точніше з відносною похибкою: 7.692307692311968e-05\n"
          ]
        }
      ],
      "source": [
        "import math\n",
        "\n",
        "\n",
        "\n",
        "x1 = 3  # Точне число sqrt(x1)\n",
        "\n",
        "x2 = 13 / 7  # Точне число x2\n",
        "\n",
        "x1_1 = 1.73  # Наближене число x1\n",
        "\n",
        "x2_2 = 1.857  # Наближене число x2\n",
        "\n",
        "\n",
        "\n",
        "def f(x1, x1_1, x2, x2_2):\n",
        "\n",
        "    rel_error_x1 = abs(math.sqrt(x1) - x1_1) / abs(math.sqrt(x1))\n",
        "\n",
        "    rel_error_x2 = abs(x2 - x2_2) / abs(x2)\n",
        "\n",
        "\n",
        "\n",
        "    if rel_error_x1 < rel_error_x2:\n",
        "\n",
        "        print(\"Перша рівність точніше з відносною похибкою:\", rel_error_x1)\n",
        "\n",
        "    elif rel_error_x2 < rel_error_x1:\n",
        "\n",
        "        print(\"Друга рівність точніше з відносною похибкою:\", rel_error_x2)\n",
        "\n",
        "    else:\n",
        "\n",
        "        print(\"Обидві рівності мають однакову точність з відносною похибкою:\", rel_error_x1)\n",
        "\n",
        "f(x1, x1_1, x2, x2_2)"
      ]
    }
  ]
}