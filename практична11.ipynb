{
  "nbformat": 4,
  "nbformat_minor": 0,
  "metadata": {
    "colab": {
      "provenance": [],
      "authorship_tag": "ABX9TyMl8bVFtvpE3LWt4g5Rw8kt",
      "include_colab_link": true
    },
    "kernelspec": {
      "name": "python3",
      "display_name": "Python 3"
    },
    "language_info": {
      "name": "python"
    }
  },
  "cells": [
    {
      "cell_type": "markdown",
      "metadata": {
        "id": "view-in-github",
        "colab_type": "text"
      },
      "source": [
        "<a href=\"https://colab.research.google.com/github/bybbaa/CHM/blob/main/%D0%BF%D1%80%D0%B0%D0%BA%D1%82%D0%B8%D1%87%D0%BD%D0%B011.ipynb\" target=\"_parent\"><img src=\"https://colab.research.google.com/assets/colab-badge.svg\" alt=\"Open In Colab\"/></a>"
      ]
    },
    {
      "cell_type": "code",
      "execution_count": 6,
      "metadata": {
        "id": "4A23TkLKehhL",
        "colab": {
          "base_uri": "https://localhost:8080/"
        },
        "outputId": "de70cdb5-40cb-4bb7-858b-1af10a9e4961"
      },
      "outputs": [
        {
          "output_type": "stream",
          "name": "stdout",
          "text": [
            "Лівий прямокутник: 0.530319105\n",
            "Правий прямокутник: 0.525710303\n",
            "Середній прямокутник: 0.530319105\n",
            "Перевірка для прямокутного методу = 0.528004622\n"
          ]
        }
      ],
      "source": [
        "from scipy import integrate\n",
        "import math\n",
        "eps = 0.001\n",
        "a = 1.2\n",
        "b = 2\n",
        "n = 10\n",
        "\n",
        "def f(x):\n",
        "  return 1 / math.sqrt(0.5*x + 1.5)\n",
        "\n",
        "def left_rec(f, a, b, n):\n",
        "  h = (b - a) / n\n",
        "  sum = 0\n",
        "  for i in range(0, n):\n",
        "      sum += f(a + i * h)\n",
        "  return sum * h\n",
        "\n",
        "integral1 = left_rec(f, a, b, n)\n",
        "integral2 = left_rec(f, a, b, n * 2)\n",
        "if (integral2 - integral1) / 3 <= eps:\n",
        "    print(\"Лівий прямокутник:\",round (left_rec(f, a, b, n), 9))\n",
        "\n",
        "\n",
        "def right_rec(f, a, b, n):\n",
        "    h = (b - a) / n\n",
        "    sum=0\n",
        "    for i in range(1, n+1):\n",
        "        sum += f(a + i * h)\n",
        "    return sum * h\n",
        "print(\"Правий прямокутник:\", round(right_rec(f, a, b, n), 9))\n",
        "\n",
        "def aver_rec(f, a, b, n):\n",
        "    h = (b - a) / n\n",
        "    sum = 0\n",
        "    for i in range(0, n):\n",
        "        sum += f(a + i * h)\n",
        "    return sum * h\n",
        "print(\"Середній прямокутник:\", round(aver_rec(f, a, b, n), 9))\n",
        "\n",
        "v, err = integrate.quad(f, a, b)\n",
        "print(\"Перевірка для прямокутного методу =\", round (v, 9))"
      ]
    },
    {
      "cell_type": "code",
      "source": [
        "import numpy as np\n",
        "from scipy import integrate\n",
        "import math\n",
        "\n",
        "def f(x):\n",
        "    return np.log (x**2 + 3)/(2*x)\n",
        "\n",
        "a = 1.2\n",
        "b = 2\n",
        "n = 8\n",
        "\n",
        "def simpson_rule(f, a, b, n):\n",
        "    h = (b - a) / n\n",
        "    integr = f(a) + f(b)\n",
        "    for i in range(1, n):\n",
        "        k = a + i * h\n",
        "        if i % 2 == 0:\n",
        "            integr += 2 * f(k)\n",
        "        else:\n",
        "            integr += 4 * f(k)\n",
        "    integr *= h / 3\n",
        "    return integr\n",
        "\n",
        "integral1 = simpson_rule(f, a, b, n)\n",
        "n *= 2\n",
        "integral2 = simpson_rule(f, a, b, n)\n",
        "while abs(integral2 - integral1) / 15 > 0.001:\n",
        "    integral1 = integral2\n",
        "    n *= 2\n",
        "    integral2 = simpson_rule(f, a, b, n)\n",
        "\n",
        "print(\"Метод Сімпсона:\", round(integral2, 9))\n",
        "\n",
        "v, err = integrate.quad(f, a, b)\n",
        "print(\"Перевірка для методу Сімпсона =\", round(v, 9))"
      ],
      "metadata": {
        "colab": {
          "base_uri": "https://localhost:8080/"
        },
        "id": "-nlI0ny4kG5f",
        "outputId": "e0d0db02-d9d2-4b8c-dd1a-912fcd760bf7"
      },
      "execution_count": 4,
      "outputs": [
        {
          "output_type": "stream",
          "name": "stdout",
          "text": [
            "Метод Сімпсона: 0.433453638\n",
            "Перевірка для методу Сімпсона = 0.43345359\n"
          ]
        }
      ]
    },
    {
      "cell_type": "code",
      "source": [
        "from scipy import integrate\n",
        "import numpy as np\n",
        "\n",
        "def f(x):\n",
        "    return 1 /np.sqrt(x**2 + 0.6)\n",
        "\n",
        "a = 1.2\n",
        "b = 2.6\n",
        "n = 20\n",
        "\n",
        "def trapezoidal_rule(f, a, b, n):\n",
        "    h = (b - a) / n\n",
        "    x = a\n",
        "    sum = 0\n",
        "    for i in range(1, n):\n",
        "        x += h\n",
        "        sum += 2 * f(x)\n",
        "    sum += f(b)\n",
        "    integral = h / 2 * sum\n",
        "\n",
        "    return integral\n",
        "\n",
        "integral1 = trapezoidal_rule(f, a, b, n)\n",
        "n *= 2\n",
        "integral2 = trapezoidal_rule(f, a, b, n)\n",
        "\n",
        "while abs(integral2 - integral1) / 3 > 0.0001:\n",
        "    integral1 = integral2\n",
        "    n *= 2\n",
        "    integral2 = trapezoidal_rule(f, a, b, n)\n",
        "\n",
        "print(\"Метод  трапеції:\", round(integral2, 9))\n",
        "\n",
        "v,err = integrate.quad(f,a,b)\n",
        "print(\"Перевірка методу трапеції= \",round(v, 9))"
      ],
      "metadata": {
        "id": "oM7qI2V4lE3u",
        "colab": {
          "base_uri": "https://localhost:8080/"
        },
        "outputId": "816f91f7-54c1-4187-98b0-b0db2b1f1fa7"
      },
      "execution_count": 5,
      "outputs": [
        {
          "output_type": "stream",
          "name": "stdout",
          "text": [
            "Метод  трапеції: 0.703620607\n",
            "Перевірка методу трапеції=  0.703812044\n"
          ]
        }
      ]
    }
  ]
}