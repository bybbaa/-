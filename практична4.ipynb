{
  "nbformat": 4,
  "nbformat_minor": 0,
  "metadata": {
    "colab": {
      "provenance": [],
      "authorship_tag": "ABX9TyOVrbTod4qGsKNWoPOXmW3N",
      "include_colab_link": true
    },
    "kernelspec": {
      "name": "python3",
      "display_name": "Python 3"
    },
    "language_info": {
      "name": "python"
    }
  },
  "cells": [
    {
      "cell_type": "markdown",
      "metadata": {
        "id": "view-in-github",
        "colab_type": "text"
      },
      "source": [
        "<a href=\"https://colab.research.google.com/github/bybbaa/CHM/blob/main/%D0%BF%D1%80%D0%B0%D0%BA%D1%82%D0%B8%D1%87%D0%BD%D0%B04.ipynb\" target=\"_parent\"><img src=\"https://colab.research.google.com/assets/colab-badge.svg\" alt=\"Open In Colab\"/></a>"
      ]
    },
    {
      "cell_type": "markdown",
      "source": [
        "Завдання 1"
      ],
      "metadata": {
        "id": "Kb8oeMRpOil8"
      }
    },
    {
      "cell_type": "code",
      "source": [
        "import numpy as np\n",
        "\n",
        "a = np.array([[1, 2], [4, -1]])\n",
        "b = np.array([[2, -3], [-4, 1]])\n",
        "\n",
        "c = np.dot(a, b) - np.dot(b, a)\n",
        "\n",
        "print(\"Матриця C:\")\n",
        "print(c)"
      ],
      "metadata": {
        "colab": {
          "base_uri": "https://localhost:8080/"
        },
        "id": "mpUf09hK5Koq",
        "outputId": "ea7f79ba-13d9-4c6a-ed8d-f7b59e65a57e"
      },
      "execution_count": 4,
      "outputs": [
        {
          "output_type": "stream",
          "name": "stdout",
          "text": [
            "Матриця C:\n",
            "[[ 4 -8]\n",
            " [12 -4]]\n"
          ]
        }
      ]
    },
    {
      "cell_type": "markdown",
      "source": [
        "Завдання 2"
      ],
      "metadata": {
        "id": "zrLAw50cPDwA"
      }
    },
    {
      "cell_type": "code",
      "source": [
        "import numpy as np\n",
        "\n",
        "matrix = np.array([[-1, 0, 2], [0, 1, 0], [1, 2, -1]])\n",
        "\n",
        "result = np.dot(matrix, matrix)\n",
        "\n",
        "print(\"Матриця піднесена до степеня 2:\")\n",
        "print(result)"
      ],
      "metadata": {
        "colab": {
          "base_uri": "https://localhost:8080/"
        },
        "id": "O8mzpiEn52f6",
        "outputId": "ab863a13-e987-4484-a581-84438e9b369f"
      },
      "execution_count": 5,
      "outputs": [
        {
          "output_type": "stream",
          "name": "stdout",
          "text": [
            "Матриця піднесена до степеня 2:\n",
            "[[ 3  4 -4]\n",
            " [ 0  1  0]\n",
            " [-2  0  3]]\n"
          ]
        }
      ]
    },
    {
      "cell_type": "markdown",
      "source": [
        "Завдання 3"
      ],
      "metadata": {
        "id": "Tlq3VclgPHW9"
      }
    },
    {
      "cell_type": "code",
      "source": [
        "import numpy as np\n",
        "\n",
        "matrix1 = np.array([[5, 0, 2, 3], [4, 1, 5, 3], [3, 1, -1, 2]])\n",
        "\n",
        "matrix2 = np.array([[6], [-2], [7], [4]])\n",
        "\n",
        "result = np.dot(matrix1, matrix2)\n",
        "\n",
        "print(\"Добуток матриць:\")\n",
        "print(result)"
      ],
      "metadata": {
        "colab": {
          "base_uri": "https://localhost:8080/"
        },
        "id": "dYGesFiLERNk",
        "outputId": "e389b913-3736-4d4e-9617-5c6f3467a384"
      },
      "execution_count": 6,
      "outputs": [
        {
          "output_type": "stream",
          "name": "stdout",
          "text": [
            "Добуток матриць:\n",
            "[[56]\n",
            " [69]\n",
            " [17]]\n"
          ]
        }
      ]
    },
    {
      "cell_type": "markdown",
      "source": [
        "Завдання 4"
      ],
      "metadata": {
        "id": "fBeWsHp2PPH3"
      }
    },
    {
      "cell_type": "code",
      "source": [
        "import numpy as np\n",
        "\n",
        "matrix = np.array([[0, 2, 0], [3, 4, 5], [6, 7, 8]])\n",
        "determinant = np.linalg.det(matrix)\n",
        "print(\"Визначник матриці :\", determinant)"
      ],
      "metadata": {
        "colab": {
          "base_uri": "https://localhost:8080/"
        },
        "id": "eCFAYy5UEi9X",
        "outputId": "c301e473-5298-4582-9f04-224df9e9ff77"
      },
      "execution_count": 13,
      "outputs": [
        {
          "output_type": "stream",
          "name": "stdout",
          "text": [
            "Визначник матриці : 12.0\n"
          ]
        }
      ]
    },
    {
      "cell_type": "markdown",
      "source": [
        "Завдання 5"
      ],
      "metadata": {
        "id": "xQZXIsUqPRBb"
      }
    },
    {
      "cell_type": "code",
      "source": [
        "import numpy as np\n",
        "\n",
        "matrix = np.array([[1, 2, 0, 0, 0],\n",
        "                   [1, 0, 2, 0, 0],\n",
        "                   [1, 0, 0, 2, 0],\n",
        "                   [1, 0, 0, 0, 2],\n",
        "                   [0, 0, 1, 1, 1]])\n",
        "\n",
        "determinant = np.linalg.det(matrix)\n",
        "\n",
        "print(\"Визначник матриці:\")\n",
        "print(determinant)"
      ],
      "metadata": {
        "colab": {
          "base_uri": "https://localhost:8080/"
        },
        "id": "0La-qlhXFnMU",
        "outputId": "813d7d82-3cdd-489a-e69e-a384c40ecc14"
      },
      "execution_count": 14,
      "outputs": [
        {
          "output_type": "stream",
          "name": "stdout",
          "text": [
            "Визначник матриці:\n",
            "-23.999999999999993\n"
          ]
        }
      ]
    },
    {
      "cell_type": "markdown",
      "source": [
        "Завдання 6"
      ],
      "metadata": {
        "id": "XtXpzk-MPTR8"
      }
    },
    {
      "cell_type": "code",
      "source": [
        "import numpy as np\n",
        "\n",
        "matrix = np.array([[2, 5, 7],\n",
        "                   [6, 3, 4],\n",
        "                   [5, -2, -3]])\n",
        "\n",
        "inverse_matrix = np.linalg.inv(matrix)\n",
        "\n",
        "print(\"Обернена матриця:\")\n",
        "print(inverse_matrix)"
      ],
      "metadata": {
        "colab": {
          "base_uri": "https://localhost:8080/"
        },
        "id": "2zg4E9qiOBYs",
        "outputId": "b237f847-d247-4df0-8e27-a6149d20e789"
      },
      "execution_count": 26,
      "outputs": [
        {
          "output_type": "stream",
          "name": "stdout",
          "text": [
            "Обернена матриця:\n",
            "[[  1.  -1.   1.]\n",
            " [-38.  41. -34.]\n",
            " [ 27. -29.  24.]]\n"
          ]
        }
      ]
    },
    {
      "cell_type": "markdown",
      "source": [
        "Завдання 7"
      ],
      "metadata": {
        "id": "KK5w1oPdPYEh"
      }
    },
    {
      "cell_type": "code",
      "source": [
        "import numpy as np\n",
        "\n",
        "matrix = np.array([[-2, 3, 1, -1],\n",
        "                   [3, 2, 1, 4],\n",
        "                   [1, 2, 3, 4],\n",
        "                   [0, 2, 3, 3]])\n",
        "\n",
        "rank = np.linalg.matrix_rank(matrix)\n",
        "\n",
        "print(\"Ранг матриці:\", rank)"
      ],
      "metadata": {
        "colab": {
          "base_uri": "https://localhost:8080/"
        },
        "id": "iW4DDgSIPbSi",
        "outputId": "05c0e5ec-3dbe-4a0d-a7b9-2934ef12c7ab"
      },
      "execution_count": 25,
      "outputs": [
        {
          "output_type": "stream",
          "name": "stdout",
          "text": [
            "Ранг матриці: 3\n"
          ]
        }
      ]
    },
    {
      "cell_type": "markdown",
      "source": [
        "Завдання 8 (метод Крамера)"
      ],
      "metadata": {
        "id": "sjvEkXAKSFrh"
      }
    },
    {
      "cell_type": "code",
      "source": [
        "import numpy as np\n",
        "\n",
        "a = np.matrix('1 -2 3; 4 2 -3; 3 -3 5')\n",
        "b = np.matrix('-5; 0; -9')\n",
        "\n",
        "def kram(a, b):\n",
        "    det_a = np.linalg.det(a)\n",
        "    if det_a != 0:\n",
        "        a1 = np.matrix(a)\n",
        "        a2 = np.matrix(a)\n",
        "        a3 = np.matrix(a)\n",
        "        a1[:, 0] = b\n",
        "        a2[:, 1] = b\n",
        "        a3[:, 2] = b\n",
        "        x = np.linalg.det(a1) / det_a\n",
        "        y = np.linalg.det(a2) / det_a\n",
        "        z = np.linalg.det(a3) / det_a\n",
        "        print('Вирішення системи лінійних алгебраїчних рівнянь методом Крамера')\n",
        "        print('x =', x.round(3), 'y =', y.round(3), 'z =', z.round(3))\n",
        "    else:\n",
        "        print(\"Визначник дорівнює нулю, система не має розв'язків\")\n",
        "    return x, y, z\n",
        "\n",
        "kram(a, b)\n",
        "\n",
        "print('Перевірка правильності розв\\'язку\\n', np.linalg.solve(a, b).round(3))\n"
      ],
      "metadata": {
        "colab": {
          "base_uri": "https://localhost:8080/"
        },
        "id": "LAKmd7IBSN38",
        "outputId": "97554dab-92bf-47db-96c2-bc74e1e4811f"
      },
      "execution_count": 87,
      "outputs": [
        {
          "output_type": "stream",
          "name": "stdout",
          "text": [
            "Вирішення системи лінійних алгебраїчних рівнянь методом Крамера\n",
            "x = -1.0 y = 2.0 z = 0.0\n",
            "Перевірка правильності розв'язку\n",
            " [[-1.]\n",
            " [ 2.]\n",
            " [-0.]]\n"
          ]
        }
      ]
    },
    {
      "cell_type": "markdown",
      "source": [
        "Завдання 8 (матричний метод)"
      ],
      "metadata": {
        "id": "2A1gcDfoS2RI"
      }
    },
    {
      "cell_type": "code",
      "source": [
        "import numpy as np\n",
        "\n",
        "a = np.array([[1, -2, 3],\n",
        "              [4, 2, -3],\n",
        "              [3, -3, 5]])\n",
        "\n",
        "b = np.array([[-5],\n",
        "              [0],\n",
        "              [-9]])\n",
        "\n",
        "x = np.linalg.solve(a, b)\n",
        "\n",
        "print('Розв\\'язок системи лінійних рівнянь:')\n",
        "print('x =', x[0, 0])\n",
        "print('y =', x[1, 0])\n",
        "print('z =', x[2, 0])"
      ],
      "metadata": {
        "colab": {
          "base_uri": "https://localhost:8080/"
        },
        "id": "Ic9C41F6z2cn",
        "outputId": "204adc25-e7cd-43c4-8f09-d92491ad2c80"
      },
      "execution_count": 77,
      "outputs": [
        {
          "output_type": "stream",
          "name": "stdout",
          "text": [
            "Розв'язок системи лінійних рівнянь:\n",
            "x = -1.0\n",
            "y = 2.0\n",
            "z = -0.0\n"
          ]
        }
      ]
    },
    {
      "cell_type": "markdown",
      "source": [
        "Перевірка"
      ],
      "metadata": {
        "id": "StFLvS_Y54Sf"
      }
    },
    {
      "cell_type": "code",
      "source": [
        "import numpy as np\n",
        "from scipy.linalg import solve\n",
        "\n",
        "A = np.array([[1, -2, 3],\n",
        "              [4, 2, -3],\n",
        "              [3, -3, 5]])\n",
        "\n",
        "b = np.array([-5, 0, -9])\n",
        "\n",
        "x = solve(A, b)\n",
        "\n",
        "print(\"Розв'язок системи:\")\n",
        "print(\"x =\", x[0])\n",
        "print(\"y =\", x[1])\n",
        "print(\"z =\", x[2])\n"
      ],
      "metadata": {
        "colab": {
          "base_uri": "https://localhost:8080/"
        },
        "id": "hW3aFRsz09cV",
        "outputId": "1c8363d6-b5f0-47d7-c3fc-e637288c78d6"
      },
      "execution_count": 88,
      "outputs": [
        {
          "output_type": "stream",
          "name": "stdout",
          "text": [
            "Розв'язок системи:\n",
            "x = -1.0\n",
            "y = 2.0\n",
            "z = -0.0\n"
          ]
        }
      ]
    },
    {
      "cell_type": "markdown",
      "source": [
        "Завдання 2(3 варіант)"
      ],
      "metadata": {
        "id": "sNgTFZXI0k5q"
      }
    },
    {
      "cell_type": "code",
      "source": [
        "import numpy as np\n",
        "\n",
        "N = 6\n",
        "M = 3\n",
        "\n",
        "matrix = np.random.rand(N, M)\n",
        "\n",
        "print(\"Нова матриця:\")\n",
        "print(matrix)\n",
        "\n",
        "serednie_po_rjadku = np.mean(matrix, axis=1)\n",
        "serednie_po_stovpcju = np.mean(matrix, axis=0)\n",
        "\n",
        "print(\"\\nСередні значення по рядках:\")\n",
        "print(serednie_po_rjadku)\n",
        "print(\"\\nСередні значення по стовпцях:\")\n",
        "print(serednie_po_stovpcju)"
      ],
      "metadata": {
        "colab": {
          "base_uri": "https://localhost:8080/"
        },
        "id": "qwzSDfAA5_k0",
        "outputId": "7309c550-a428-4523-d35f-ed6b0d849663"
      },
      "execution_count": 82,
      "outputs": [
        {
          "output_type": "stream",
          "name": "stdout",
          "text": [
            "Нова матриця:\n",
            "[[ 0.37145181  0.04257757  0.56712994]\n",
            " [ 0.09537581  0.56745439  0.24832205]\n",
            " [ 0.65028333  0.01741383  0.40019268]\n",
            " [ 0.64868899  0.89108349  0.86609865]\n",
            " [ 0.5900375   0.98758092  0.11929379]\n",
            " [ 0.33814162  0.04043652  0.7440958 ]]\n",
            "\n",
            "Середні значення по рядках:\n",
            "[ 0.32705311  0.30371742  0.35596328  0.80195704  0.56563741  0.37422465]\n",
            "\n",
            "Середні значення по стовпцях:\n",
            "[ 0.44899651  0.42442445  0.49085549]\n"
          ]
        }
      ]
    }
  ]
}