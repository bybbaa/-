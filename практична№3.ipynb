{
  "nbformat": 4,
  "nbformat_minor": 0,
  "metadata": {
    "colab": {
      "provenance": [],
      "authorship_tag": "ABX9TyMZ/VA/kZ8RcOkW7gl4J9rS",
      "include_colab_link": true
    },
    "kernelspec": {
      "name": "python3",
      "display_name": "Python 3"
    },
    "language_info": {
      "name": "python"
    }
  },
  "cells": [
    {
      "cell_type": "markdown",
      "metadata": {
        "id": "view-in-github",
        "colab_type": "text"
      },
      "source": [
        "<a href=\"https://colab.research.google.com/github/bybbaa/CHM/blob/main/%D0%BF%D1%80%D0%B0%D0%BA%D1%82%D0%B8%D1%87%D0%BD%D0%B0%E2%84%963.ipynb\" target=\"_parent\"><img src=\"https://colab.research.google.com/assets/colab-badge.svg\" alt=\"Open In Colab\"/></a>"
      ]
    },
    {
      "cell_type": "code",
      "execution_count": 10,
      "metadata": {
        "colab": {
          "base_uri": "https://localhost:8080/"
        },
        "id": "2oGlVka7Rw_5",
        "outputId": "d4856191-67a5-42f7-bb63-ffa2933c548c"
      },
      "outputs": [
        {
          "output_type": "stream",
          "name": "stdout",
          "text": [
            "Розв'язок рівняння методом Ньютона: x = -1.4950574691115175\n"
          ]
        },
        {
          "output_type": "stream",
          "name": "stderr",
          "text": [
            "<ipython-input-10-841e500950fb>:14: DeprecationWarning: scipy.misc.derivative is deprecated in SciPy v1.10.0; and will be completely removed in SciPy v1.12.0. You may consider using findiff: https://github.com/maroba/findiff or numdifftools: https://github.com/pbrod/numdifftools\n",
            "  df2 = derivative(f, b, n=2)\n",
            "<ipython-input-10-841e500950fb>:19: DeprecationWarning: scipy.misc.derivative is deprecated in SciPy v1.10.0; and will be completely removed in SciPy v1.12.0. You may consider using findiff: https://github.com/maroba/findiff or numdifftools: https://github.com/pbrod/numdifftools\n",
            "  df = derivative(f, xi, n=1)\n"
          ]
        }
      ],
      "source": [
        "import numpy as np\n",
        "import math\n",
        "from scipy.misc import derivative\n",
        "\n",
        "def f(x):\n",
        "    return 2*pow(x,4) - 8*pow(x,3) - 16*pow(x,2) - 1\n",
        "\n",
        "a = -2.0\n",
        "b = 2.0\n",
        "\n",
        "eps = 0.001\n",
        "\n",
        "def newton(a, b, eps):\n",
        "    df2 = derivative(f, b, n=2)\n",
        "    if (f(b) * df2 > 0):\n",
        "        xi = b\n",
        "    else:\n",
        "        xi = a\n",
        "    df = derivative(f, xi, n=1)\n",
        "    xi_1 = xi - f(xi) / df\n",
        "    while (abs(xi_1 - xi) > eps):\n",
        "        xi = xi_1\n",
        "        xi_1 = xi - f(xi) / df\n",
        "    return print('Розв\\'язок рівняння методом Ньютона: x =', xi_1)\n",
        "\n",
        "newton(a, b, eps)"
      ]
    },
    {
      "cell_type": "code",
      "source": [
        "import numpy as np\n",
        "from scipy.misc import derivative\n",
        "\n",
        "def f(x):\n",
        "    return 2 * x**4 - 8 * x**3 - 16 * x**2 - 1\n",
        "\n",
        "def komb(a, b, eps):\n",
        "    if derivative(f, a, n=1) * derivative(f, a, n=2) > 0:\n",
        "        a0 = a\n",
        "        b0 = b\n",
        "    else:\n",
        "        a0 = b\n",
        "        b0 = a\n",
        "\n",
        "    ai = a0\n",
        "    bi = b0\n",
        "\n",
        "    while abs(ai - bi) > eps:\n",
        "        ai_1 = ai - f(ai) * (bi - ai) / (f(bi) - f(ai))\n",
        "        bi_1 = bi - f(bi) / derivative(f, bi, n=1)\n",
        "        ai = ai_1\n",
        "        bi = bi_1\n",
        "\n",
        "    x = (ai_1 + bi_1) / 2\n",
        "\n",
        "    return x\n",
        "\n",
        "result = komb(-2, -1/2, 0.0001)\n",
        "print('Розв\\'язок рівняння за допомогою комбінованого методу x =', result)\n"
      ],
      "metadata": {
        "colab": {
          "base_uri": "https://localhost:8080/"
        },
        "id": "aheJYAlpcOEl",
        "outputId": "7b34c7b3-1870-4d7a-80e7-e814ec500622"
      },
      "execution_count": 5,
      "outputs": [
        {
          "output_type": "stream",
          "name": "stdout",
          "text": [
            "Розв'язок рівняння за допомогою комбінованого методу x = -1.4962182157615507\n"
          ]
        },
        {
          "output_type": "stream",
          "name": "stderr",
          "text": [
            "<ipython-input-5-f24d4c354745>:8: DeprecationWarning: scipy.misc.derivative is deprecated in SciPy v1.10.0; and will be completely removed in SciPy v1.12.0. You may consider using findiff: https://github.com/maroba/findiff or numdifftools: https://github.com/pbrod/numdifftools\n",
            "  if derivative(f, a, n=1) * derivative(f, a, n=2) > 0:\n",
            "<ipython-input-5-f24d4c354745>:20: DeprecationWarning: scipy.misc.derivative is deprecated in SciPy v1.10.0; and will be completely removed in SciPy v1.12.0. You may consider using findiff: https://github.com/maroba/findiff or numdifftools: https://github.com/pbrod/numdifftools\n",
            "  bi_1 = bi - f(bi) / derivative(f, bi, n=1)\n"
          ]
        }
      ]
    }
  ]
}