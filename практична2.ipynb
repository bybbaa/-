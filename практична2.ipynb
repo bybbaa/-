{
  "nbformat": 4,
  "nbformat_minor": 0,
  "metadata": {
    "colab": {
      "provenance": [],
      "authorship_tag": "ABX9TyOIxgCv1aFv4QYejwMFLtjX",
      "include_colab_link": true
    },
    "kernelspec": {
      "name": "python3",
      "display_name": "Python 3"
    },
    "language_info": {
      "name": "python"
    }
  },
  "cells": [
    {
      "cell_type": "markdown",
      "metadata": {
        "id": "view-in-github",
        "colab_type": "text"
      },
      "source": [
        "<a href=\"https://colab.research.google.com/github/bybbaa/CHM/blob/main/%D0%BF%D1%80%D0%B0%D0%BA%D1%82%D0%B8%D1%87%D0%BD%D0%B02.ipynb\" target=\"_parent\"><img src=\"https://colab.research.google.com/assets/colab-badge.svg\" alt=\"Open In Colab\"/></a>"
      ]
    },
    {
      "cell_type": "code",
      "source": [
        "import warnings\n",
        "warnings.filterwarnings(\"ignore\", category=DeprecationWarning)\n",
        "import math\n",
        "import numpy as np\n",
        "from scipy.misc import derivative\n",
        "\n",
        "def f(x):\n",
        "   return 2*x**4 - 8*x**3 - 16*x**2 - 1\n",
        "\n",
        "eps = 0.0001\n",
        "\n",
        "def find_segments():\n",
        "    search_range = np.arange(-10, 10, 1)\n",
        "\n",
        "    a = None\n",
        "    previous_x = None\n",
        "    current_x = None\n",
        "    segments = []\n",
        "\n",
        "    for x in search_range:\n",
        "        x = round(x, 4)\n",
        "        current_x = f(x)\n",
        "        if previous_x is not None and previous_x * current_x < 0:\n",
        "            segments.append((a, x))\n",
        "        a = x\n",
        "        previous_x = current_x\n",
        "\n",
        "    return segments\n",
        "\n",
        "segments = find_segments()\n",
        "\n",
        "def rec(a, b, eps):\n",
        "    while (abs(a-b) > eps):\n",
        "        if f(a)*f((a+b)/2) < 0:\n",
        "            b = (a+b)/2\n",
        "        else:\n",
        "            a = (a+b)/2\n",
        "        x = (a+b)/2\n",
        "\n",
        "    print('x= ', round(x, 5), '  -   Метод половинного ділення')\n",
        "\n",
        "def hord(a, b, eps):\n",
        "    if (f(a)*derivative(f, a, n=2) > 0):\n",
        "        x0 = a\n",
        "        xi = b\n",
        "    else:\n",
        "        x0 = b\n",
        "        xi = a\n",
        "\n",
        "    xi_1 = xi - (xi - x0) * f(xi) / (f(xi) - f(x0))\n",
        "    while (abs(xi_1 - xi) > eps):\n",
        "        xi = xi_1\n",
        "        xi_1 = xi - (xi - x0) * f(xi) / (f(xi) - f(x0))\n",
        "\n",
        "    print('x= ', round(xi_1, 5), '  -   Метод хорд')\n",
        "\n",
        "for a, b in segments:\n",
        "    print(f'Розв\\'язок нелінійного рівняння на відрізку [{a}, {b}]')\n",
        "    rec(a, b, eps)\n",
        "    hord(a, b, eps)\n"
      ],
      "metadata": {
        "colab": {
          "base_uri": "https://localhost:8080/"
        },
        "id": "GxOG5oHER-ff",
        "outputId": "88475b57-ea83-492c-f182-f581bdb495e0"
      },
      "execution_count": 2,
      "outputs": [
        {
          "output_type": "stream",
          "name": "stdout",
          "text": [
            "Розв'язок нелінійного рівняння на відрізку [-2, -1]\n",
            "x=  -1.49619   -   Метод половинного ділення\n",
            "x=  -1.49614   -   Метод хорд\n",
            "Розв'язок нелінійного рівняння на відрізку [5, 6]\n",
            "x=  5.46652   -   Метод половинного ділення\n",
            "x=  5.4665   -   Метод хорд\n"
          ]
        }
      ]
    }
  ]
}